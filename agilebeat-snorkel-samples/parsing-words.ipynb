{
 "cells": [
  {
   "cell_type": "code",
   "execution_count": null,
   "metadata": {},
   "outputs": [],
   "source": [
    "import os\n",
    "import pickle\n",
    "import subprocess\n",
    "from typing import Tuple\n",
    "import wikipedia\n",
    "import numpy as np\n",
    "import pandas as pd\n",
    "import os.path\n",
    "from os import path\n",
    "import nltk"
   ]
  },
  {
   "cell_type": "code",
   "execution_count": null,
   "metadata": {},
   "outputs": [],
   "source": [
    "def actor_information(actor_name):\n",
    "    actor_page = wikipedia.page(actor_name)\n",
    "    #print(actor_name.section('Public image'))\n",
    "    #print(actor_page.title)\n",
    "    #print(actor_page.url)\n",
    "    #print(actor_page.content)\n",
    "    #print(actor_page.summary)\n",
    "    #print(actor_page.categories)\n",
    "    return (actor_page.title, actor_page.content)\n",
    "\n",
    "def nlkt_pull():\n",
    "    if (path.exists('/root/nltk_data')):\n",
    "        return\n",
    "    nltk.download('punkt', quiet=True)\n",
    "    nltk.download('averaged_perceptron_tagger', quiet=True)\n",
    "    nltk.download('maxent_ne_chunker', quiet=True)\n",
    "    nltk.download('words', quiet=True)\n",
    "    \n",
    "nlkt_pull()"
   ]
  },
  {
   "cell_type": "code",
   "execution_count": null,
   "metadata": {},
   "outputs": [],
   "source": [
    "#text = actor_information(\"Bradley Cooper\")[1]\n",
    "text = actor_information(\"Tom Cruise\")[1]\n",
    "text = actor_information(\"Bruce Willis\")[1]"
   ]
  },
  {
   "cell_type": "code",
   "execution_count": null,
   "metadata": {},
   "outputs": [],
   "source": [
    "\n",
    "\n",
    "sentences = []\n",
    "sent_tokens = []\n",
    "\n",
    "for sent in nltk.sent_tokenize(text):\n",
    "    sentences.append(sent)\n",
    "    sent_tokens.append(nltk.word_tokenize(sent))"
   ]
  },
  {
   "cell_type": "code",
   "execution_count": null,
   "metadata": {},
   "outputs": [],
   "source": [
    "import pandas as pd\n",
    "pd.set_option(\"display.max_colwidth\", 0)\n",
    "\n",
    "pd.DataFrame({\"sentence\": sentences, \"tokens\" :sent_tokens})"
   ]
  },
  {
   "cell_type": "code",
   "execution_count": null,
   "metadata": {},
   "outputs": [],
   "source": [
    "from snorkel.labeling import labeling_function\n",
    "import re\n",
    "POSITIVE = 1\n",
    "NEGATIVE = 0\n",
    "ABSTAIN = -1\n",
    "ROLE_CATEGORY_COMEDY = r\"\\b(comed(y|ian|ies))\"\n",
    "\n",
    "@labeling_function()\n",
    "def role_category_comedy(x):\n",
    "    return POSITIVE if re.search(ROLE_CATEGORY_COMEDY, x.sentence.lower()) else ABSTAIN\n",
    "\n",
    "ROLE_CATEGORY_DRAMA = r\"\\b(drama(s))\"\n",
    "\n",
    "@labeling_function()\n",
    "def role_category_drama(x):\n",
    "    return NEGATIVE if re.search(ROLE_CATEGORY_DRAMA, x.sentence.lower()) else ABSTAIN"
   ]
  },
  {
   "cell_type": "code",
   "execution_count": null,
   "metadata": {},
   "outputs": [],
   "source": [
    "from snorkel.labeling import LabelModel, PandasLFApplier\n",
    "\n",
    "lfs = [role_category_comedy, role_category_drama]\n",
    "# Apply the LFs to the unlabeled training data\n",
    "applier = PandasLFApplier(lfs)\n",
    "df_train = pd.DataFrame({\"sentence\": sentences})\n",
    "L_train = applier.apply(df_train)"
   ]
  },
  {
   "cell_type": "code",
   "execution_count": null,
   "metadata": {},
   "outputs": [],
   "source": [
    "# Train the label model and compute the training labels\n",
    "label_model = LabelModel(cardinality=2, verbose=True)\n",
    "label_model.fit(L_train, n_epochs=500, log_freq=50, seed=123)\n",
    "df_train[\"label\"] = label_model.predict(L=L_train, tie_break_policy=\"abstain\")"
   ]
  },
  {
   "cell_type": "code",
   "execution_count": null,
   "metadata": {},
   "outputs": [],
   "source": [
    "df_train = df_train[df_train.label != ABSTAIN]"
   ]
  },
  {
   "cell_type": "code",
   "execution_count": null,
   "metadata": {},
   "outputs": [],
   "source": [
    "df_train"
   ]
  },
  {
   "cell_type": "code",
   "execution_count": null,
   "metadata": {},
   "outputs": [],
   "source": []
  }
 ],
 "metadata": {
  "kernelspec": {
   "display_name": "Python 3",
   "language": "python",
   "name": "python3"
  },
  "language_info": {
   "codemirror_mode": {
    "name": "ipython",
    "version": 3
   },
   "file_extension": ".py",
   "mimetype": "text/x-python",
   "name": "python",
   "nbconvert_exporter": "python",
   "pygments_lexer": "ipython3",
   "version": "3.6.8"
  }
 },
 "nbformat": 4,
 "nbformat_minor": 2
}
